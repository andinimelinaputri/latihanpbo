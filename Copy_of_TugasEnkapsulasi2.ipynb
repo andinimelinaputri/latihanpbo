{
  "nbformat": 4,
  "nbformat_minor": 0,
  "metadata": {
    "colab": {
      "provenance": [],
      "include_colab_link": true
    },
    "kernelspec": {
      "name": "python3",
      "display_name": "Python 3"
    },
    "language_info": {
      "name": "python"
    }
  },
  "cells": [
    {
      "cell_type": "markdown",
      "metadata": {
        "id": "view-in-github",
        "colab_type": "text"
      },
      "source": [
        "<a href=\"https://colab.research.google.com/github/andinimelinaputri/latihanpbo/blob/main/Copy_of_TugasEnkapsulasi2.ipynb\" target=\"_parent\"><img src=\"https://colab.research.google.com/assets/colab-badge.svg\" alt=\"Open In Colab\"/></a>"
      ]
    },
    {
      "cell_type": "markdown",
      "source": [
        "Buatlah kelas RekeningBank dengan atribut berikut:\n",
        "\n",
        "*   nama_pemilik (private)\n",
        "*   saldo (private)\n",
        "\n",
        "Berikan metode berikut:\n",
        "\n",
        "*   __init__: Menginisialisasi saldo dan nama_pemilik.\n",
        "*   set_saldo: Mengubah nilai saldo.\n",
        "*   get_saldo: Mengembalikan nilai saldo.\n",
        "*   set_nama_pemilik: Mengubah nama pemilik.\n",
        "*   get_nama_pemilik: Mengembalikan nama pemilik.\n",
        "\n",
        "\n",
        "\n",
        "\n",
        "\n",
        "\n",
        "\n",
        "\n"
      ],
      "metadata": {
        "id": "PktiI90eS6Ee"
      }
    },
    {
      "cell_type": "code",
      "source": [
        "# Desain class\n",
        "class RekeningBank:\n",
        "  def __init__(self, nama_pemilik, saldo):\n",
        "    self.__nama_pemilik = nama_pemilik\n",
        "    self.__saldo = saldo\n",
        "\n",
        "  def get_nama_pemilik(self):\n",
        "    return self.__nama_pemilik\n",
        "\n",
        "  def set_nama_pemilik(self, nama_pemilik):\n",
        "    self.__nama_pemilik = nama_pemilik\n",
        "\n",
        "  def get_saldo(self):\n",
        "    return self.__saldo\n",
        "\n",
        "  def set_saldo(self, saldo):\n",
        "    self.__saldo = saldo\n",
        "\n",
        "  def setor(self, jumlah):\n",
        "    if jumlah > 0:\n",
        "      self.__saldo += jumlah\n",
        "      print('behasil.total saldo sekarang :', self.__saldo)\n",
        "    else:\n",
        "      print(\"jumlah setor harus lebih dari 0\")\n",
        "\n",
        "  def tarik(self, jumlah):\n",
        "    if jumlah > 0 and jumlah <= self.__saldo:\n",
        "      self.__saldo -= jumlah\n",
        "      print('tarik', jumlah)\n",
        "      print('berhasil. total saldo sekarang :', self.__saldo)\n",
        "    else:\n",
        "      print(\"jumlah saldo tidak mencukupi\")"
      ],
      "metadata": {
        "id": "Pyj-mkyciVfk"
      },
      "execution_count": 1,
      "outputs": []
    },
    {
      "cell_type": "code",
      "source": [
        "#Program utama untuk mendemonstrasikan class RekeningBank\n",
        "Roji= RekeningBank('andini',70000000)\n",
        "\n",
        "#mengembalikan nilai saldo\n",
        "print('RekeningBank:',Roji.get_nama_pemilik(), 'saldo:', Roji.get_saldo())\n",
        "\n",
        "# mengubah nilai saldo dan nama pemilik\n",
        "Roji.set_nama_pemilik('andini')\n",
        "Roji.set_saldo('90000000')\n",
        "\n",
        "# Mengakses/menampilkan nama_pemilik dan saldo setelah diubah\n",
        "print('RekeningBank:', Roji.get_nama_pemilik(), 'saldo:', Roji.get_saldo())"
      ],
      "metadata": {
        "id": "aOwy6rfdSga2",
        "colab": {
          "base_uri": "https://localhost:8080/"
        },
        "outputId": "b644fa56-da8d-4c32-bb53-93bfc576ec4f"
      },
      "execution_count": 2,
      "outputs": [
        {
          "output_type": "stream",
          "name": "stdout",
          "text": [
            "RekeningBank: andini saldo: 70000000\n",
            "RekeningBank: andini saldo: 90000000\n"
          ]
        }
      ]
    },
    {
      "cell_type": "code",
      "source": [
        "#demo program utama\n",
        "RekeningBankRoji = RekeningBank(\"andini\",7000000)\n",
        "\n",
        "#mengakses atau menampilkan informasi awal Rekeningbank\n",
        "print(\"informasi rekening bank sekarang:\")\n",
        "print(\"nama pemilik:\",RekeningBankRoji.get_nama_pemilik())\n",
        "print(\"saldo awal :\", RekeningBankRoji.get_saldo())\n",
        "\n",
        "#melakukan setor\n",
        "RekeningBankRoji.setor(160000) #jumlah lebih dari 0\n",
        "RekeningBankRoji.setor(0) #jumlah kurang dengan 0\n",
        "\n",
        "#melakukan tarikan saldo\n",
        "RekeningBankRoji.tarik(464000) #jumlah saldo tidak melebihi saldo pertama\n",
        "RekeningBankRoji.tarik(30000000) #jumlah saldo melebihi saldo pertama\n",
        "\n",
        "#mengakses atau menampilkan informasi akhir RekeningBankSaya\n",
        "print(\"informasi rekeningbanksaya :\")\n",
        "print(\"nama pemilik :\", RekeningBankRoji.get_nama_pemilik())\n",
        "print(\"saldo akhir :\", RekeningBankRoji.get_saldo())"
      ],
      "metadata": {
        "colab": {
          "base_uri": "https://localhost:8080/"
        },
        "id": "e_PqqgpuJiF7",
        "outputId": "32f6f585-bedd-4676-abfe-7997a0ab9ae6"
      },
      "execution_count": 3,
      "outputs": [
        {
          "output_type": "stream",
          "name": "stdout",
          "text": [
            "informasi rekening bank sekarang:\n",
            "nama pemilik: andini\n",
            "saldo awal : 7000000\n",
            "behasil.total saldo sekarang : 7160000\n",
            "jumlah setor harus lebih dari 0\n",
            "tarik 464000\n",
            "berhasil. total saldo sekarang : 6696000\n",
            "jumlah saldo tidak mencukupi\n",
            "informasi rekeningbanksaya :\n",
            "nama pemilik : andini\n",
            "saldo akhir : 6696000\n"
          ]
        }
      ]
    }
  ]
}