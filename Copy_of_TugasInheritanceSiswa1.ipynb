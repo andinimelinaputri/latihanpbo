{
  "nbformat": 4,
  "nbformat_minor": 0,
  "metadata": {
    "colab": {
      "provenance": [],
      "include_colab_link": true
    },
    "kernelspec": {
      "name": "python3",
      "display_name": "Python 3"
    },
    "language_info": {
      "name": "python"
    }
  },
  "cells": [
    {
      "cell_type": "markdown",
      "metadata": {
        "id": "view-in-github",
        "colab_type": "text"
      },
      "source": [
        "<a href=\"https://colab.research.google.com/github/andinimelinaputri/latihanpbo/blob/main/Copy_of_TugasInheritanceSiswa1.ipynb\" target=\"_parent\"><img src=\"https://colab.research.google.com/assets/colab-badge.svg\" alt=\"Open In Colab\"/></a>"
      ]
    },
    {
      "cell_type": "markdown",
      "source": [
        "Buatlah class Karyawan yang memiliki atribut id, nama dan departemen dan sebuah fungsi bernama hitung_gaji. Untuk hitung gaji pada class Karyawan tidak berisi perhitungan gaji, namun hanya berisi pass"
      ],
      "metadata": {
        "id": "Um7eIwqGTwV8"
      }
    },
    {
      "cell_type": "code",
      "execution_count": 1,
      "metadata": {
        "id": "2NJP6RgU6fy4"
      },
      "outputs": [],
      "source": [
        "class Karyawan:\n",
        " def __init__(self, id, nama, sekertaris):\n",
        "  self.id = id\n",
        "  self.nama = nama\n",
        "  self.sekertaris = sekertaris"
      ]
    },
    {
      "cell_type": "code",
      "source": [
        "\n",
        "def hitung_gaji (self):\n",
        "  pass"
      ],
      "metadata": {
        "id": "SwI_FOqw01Bo"
      },
      "execution_count": 2,
      "outputs": []
    },
    {
      "cell_type": "markdown",
      "source": [
        "Buatlah class Penuh yang merupakan turunan dari class Karyawan dan memili atribut tambahan bernama gaji. Kemudian class Penuh ini juga memiliki fungsi hitung_gaji sendiri yang berfungsi mengembalikan nilai gajinya."
      ],
      "metadata": {
        "id": "CLMRhqWUUHoZ"
      }
    },
    {
      "cell_type": "code",
      "source": [
        "class Penuh(Karyawan):\n",
        "  def __init__(self, id, nama, sekertaris, gaji):\n",
        "    super().__init__(id, nama, sekertaris,)\n",
        "    self.gaji = gaji\n",
        "\n",
        "  def hitung_gaji(self):\n",
        "    return self.gaji"
      ],
      "metadata": {
        "id": "2wPElp-u083g"
      },
      "execution_count": 3,
      "outputs": []
    },
    {
      "cell_type": "markdown",
      "source": [
        "Buatlah class ParuhWaktu yang merupakan turunan dari class Karyawan dan memiliki 2 atribut tambahan bernama jam_kerja dan tarif_per_jam. Kemudian class ParuhWaktu ini juga memiliki fungsi hitung_gaji sendiri yang berfungsi mengembalikan nilai gajinya dengan rumus jam_kerja dikalikan tarif_per_jam."
      ],
      "metadata": {
        "id": "ywi3yeiqUjlh"
      }
    },
    {
      "cell_type": "code",
      "source": [
        "class ParuhWaktu(Karyawan):\n",
        "  def __init__(self, id, nama, sekertaris, jam_kerja, tarif_per_jam):\n",
        "    super().__init__(id, nama, sekertaris)\n",
        "    self.jam_kerja = jam_kerja\n",
        "    self.tarif_per_jam = tarif_per_jam\n",
        "  def hitung_gaji(self):\n",
        "    return self.jam_kerja * self.tarif_per_jam"
      ],
      "metadata": {
        "id": "nuUJqxSf1Dog"
      },
      "execution_count": 4,
      "outputs": []
    },
    {
      "cell_type": "markdown",
      "source": [
        "Kemudian jalankan kode program berikut ini, ubah kode karyawan, nama, departemen, gaji, jam_kerja dan tarif_per_jam sesuai keinginan anda sendiri"
      ],
      "metadata": {
        "id": "qjE3CE61VSzn"
      }
    },
    {
      "cell_type": "code",
      "source": [
        "# Membuat objek dari kelas anak\n",
        "andini = Penuh(\"FT001\", \"Andini\", \"HR\", 10000000)\n",
        "putri = ParuhWaktu(\"PT001\", \"Putri\", \"IT\", 20, 150000)\n",
        "\n",
        "# Menghitung gaji\n",
        "print(f\"Gaji {andini.nama}: Rp {andini.hitung_gaji()}\")  # Output: Gaji andini: Rp 10000000\n",
        "print(f\"Gaji {putri.nama}: Rp {putri.hitung_gaji()}\")  # Output: Gaji putri: Rp 3000000"
      ],
      "metadata": {
        "id": "jwwX3nI8Efh8",
        "outputId": "723e49e2-3d7f-4d8a-8d28-6c175caa5007",
        "colab": {
          "base_uri": "https://localhost:8080/"
        }
      },
      "execution_count": 8,
      "outputs": [
        {
          "output_type": "stream",
          "name": "stdout",
          "text": [
            "Gaji Andini: Rp 10000000\n",
            "Gaji Putri: Rp 3000000\n"
          ]
        }
      ]
    }
  ]
}