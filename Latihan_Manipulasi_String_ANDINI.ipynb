{
  "nbformat": 4,
  "nbformat_minor": 0,
  "metadata": {
    "colab": {
      "provenance": [],
      "include_colab_link": true
    },
    "kernelspec": {
      "name": "python3",
      "display_name": "Python 3"
    },
    "language_info": {
      "name": "python"
    }
  },
  "cells": [
    {
      "cell_type": "markdown",
      "metadata": {
        "id": "view-in-github",
        "colab_type": "text"
      },
      "source": [
        "<a href=\"https://colab.research.google.com/github/andinimelinaputri/latihanpbo/blob/main/Latihan_Manipulasi_String_ANDINI.ipynb\" target=\"_parent\"><img src=\"https://colab.research.google.com/assets/colab-badge.svg\" alt=\"Open In Colab\"/></a>"
      ]
    },
    {
      "cell_type": "markdown",
      "source": [
        "# **String**"
      ],
      "metadata": {
        "id": "oQTkVF1XUye0"
      }
    },
    {
      "cell_type": "code",
      "execution_count": 1,
      "metadata": {
        "id": "04B8u1HsUUkm"
      },
      "outputs": [],
      "source": [
        "nama = 'Wahid Abdulloh'\n",
        "\n",
        "asal = \"Indonesia\""
      ]
    },
    {
      "cell_type": "markdown",
      "source": [
        "# **Escape Characters**"
      ],
      "metadata": {
        "id": "P6UNtemdU2g-"
      }
    },
    {
      "cell_type": "markdown",
      "source": [
        "Dia berkata: \"Pergilah!\"\n",
        "\n",
        "Aku menimpali: \"Apakah kau ingin aku 'angkat kaki'?!\"\n",
        "\n",
        "Atau menampilkan karakter \\(^_^ \\) (/ -_-/)"
      ],
      "metadata": {
        "id": "AoGZ3paGVDXA"
      }
    },
    {
      "cell_type": "code",
      "source": [
        "print(\"Dia berkata: \"Pergilah!\"\")"
      ],
      "metadata": {
        "colab": {
          "base_uri": "https://localhost:8080/",
          "height": 140
        },
        "id": "5zSXFYdBUskU",
        "outputId": "8722ca19-d5f8-40c5-88b1-ed24501cf644"
      },
      "execution_count": 2,
      "outputs": [
        {
          "output_type": "error",
          "ename": "SyntaxError",
          "evalue": "ignored",
          "traceback": [
            "\u001b[0;36m  File \u001b[0;32m\"<ipython-input-2-dd1cff4a9c3f>\"\u001b[0;36m, line \u001b[0;32m1\u001b[0m\n\u001b[0;31m    print(\"Dia berkata: \"Pergilah!\"\")\u001b[0m\n\u001b[0m          ^\u001b[0m\n\u001b[0;31mSyntaxError\u001b[0m\u001b[0;31m:\u001b[0m invalid syntax. Perhaps you forgot a comma?\n"
          ]
        }
      ]
    },
    {
      "cell_type": "markdown",
      "source": [
        "Solusi: Mengkombinasikan tanda petik satu ('') dan tanda petik dua (\"\")"
      ],
      "metadata": {
        "id": "qRG1yM1aVW-k"
      }
    },
    {
      "cell_type": "code",
      "source": [
        "print('Dia berkata: \"Pergilah!\"')"
      ],
      "metadata": {
        "colab": {
          "base_uri": "https://localhost:8080/"
        },
        "id": "FBGYf_8kVLeV",
        "outputId": "586a7ea4-05d3-4c65-d3bf-46db2194f42e"
      },
      "execution_count": 3,
      "outputs": [
        {
          "output_type": "stream",
          "name": "stdout",
          "text": [
            "Dia berkata: \"Pergilah!\"\n"
          ]
        }
      ]
    },
    {
      "cell_type": "markdown",
      "source": [
        "Solusi lain: Karena di dalam string tersebut, baik tanda petik tunggal maupun tanda petik ganda sama-sama ditampilkan, maka solusinya adalah: escape string dengan backslash (\\)!"
      ],
      "metadata": {
        "id": "LpK0p1WQVrgy"
      }
    },
    {
      "cell_type": "code",
      "source": [
        "# menggunakan petik satu\n",
        "\n",
        "print('Aku menimpali: \"Apakah kau ingin aku \\'angkat kaki\\'?!\"')\n",
        "\n",
        "\n",
        "\n",
        "# menggunakan petik dua\n",
        "\n",
        "print(\"Aku menimpali: \\\"Apakah kau ingin aku 'angkat kaki'?!\\\"\")"
      ],
      "metadata": {
        "colab": {
          "base_uri": "https://localhost:8080/"
        },
        "id": "6aOCS3hgVrO1",
        "outputId": "a8393063-f18a-4519-ed5f-ad47c528ee77"
      },
      "execution_count": 4,
      "outputs": [
        {
          "output_type": "stream",
          "name": "stdout",
          "text": [
            "Aku menimpali: \"Apakah kau ingin aku 'angkat kaki'?!\"\n",
            "Aku menimpali: \"Apakah kau ingin aku 'angkat kaki'?!\"\n"
          ]
        }
      ]
    },
    {
      "cell_type": "markdown",
      "source": [
        "Dua backslash di bawah ini akan menjadi satu saja!"
      ],
      "metadata": {
        "id": "xKOuGFr9W9km"
      }
    },
    {
      "cell_type": "code",
      "source": [
        "print('\\\\(^_^ \\) (/ -_-/)')"
      ],
      "metadata": {
        "colab": {
          "base_uri": "https://localhost:8080/"
        },
        "id": "T_hifc29V0sY",
        "outputId": "584fdd6f-489f-402c-b2e4-63c5021da26a"
      },
      "execution_count": 5,
      "outputs": [
        {
          "output_type": "stream",
          "name": "stdout",
          "text": [
            "\\(^_^ \\) (/ -_-/)\n"
          ]
        }
      ]
    },
    {
      "cell_type": "markdown",
      "source": [
        "# **Operator in pada String**\n",
        "\n",
        "Operator keanggotan in berfungsi untuk mencari tahu apakah suatu karakter / kata terdapat pada sebuah string"
      ],
      "metadata": {
        "id": "wfdNJ7TWXGhA"
      }
    },
    {
      "cell_type": "code",
      "source": [
        "berita = \"Hari ini mati lampu\"\n",
        "\n",
        "print(\"lampu\" in berita) # output: True\n",
        "\n",
        "print( \"waktu\"in berita) # output: False"
      ],
      "metadata": {
        "id": "E5_1WMgMXLBz",
        "colab": {
          "base_uri": "https://localhost:8080/"
        },
        "outputId": "df95f3cf-fa20-4c4d-8f2e-138bee21ca86"
      },
      "execution_count": 6,
      "outputs": [
        {
          "output_type": "stream",
          "name": "stdout",
          "text": [
            "True\n",
            "False\n"
          ]
        }
      ]
    },
    {
      "cell_type": "markdown",
      "source": [
        "# **Memotong String**\n",
        "\n",
        "\n",
        "**Indexing String**\n",
        "\n",
        "Indeks dimulai dari 0 (ujung kiri ke kanan).\n",
        "\n",
        "Indeks negatif dimulai dari -1 yang dihitung dari karakter paling kanan ke paling kiri."
      ],
      "metadata": {
        "id": "7gExG4EDX8RD"
      }
    },
    {
      "cell_type": "code",
      "source": [
        "nama = \"Andini Melina Putri\"\n",
        "\n",
        "print(nama[4])\n"
      ],
      "metadata": {
        "id": "z-A3a67KYBcl",
        "colab": {
          "base_uri": "https://localhost:8080/"
        },
        "outputId": "d169b978-529e-490f-9049-b1a1de57aa2a"
      },
      "execution_count": 7,
      "outputs": [
        {
          "output_type": "stream",
          "name": "stdout",
          "text": [
            "n\n"
          ]
        }
      ]
    },
    {
      "cell_type": "markdown",
      "source": [
        "**Slicing String**\n",
        "\n",
        "Untuk melakukan slicing atau pemotongan string, kita bisa menggunakan range of index yang diapit oleh dua kurung siku ([]) dan dipisahkan oleh tanda titik dua (:)."
      ],
      "metadata": {
        "id": "tWvWfechYXZL"
      }
    },
    {
      "cell_type": "code",
      "source": [
        "judul = \"Senja\"\n",
        "\n",
        "\n",
        "print(judul[0:5])\n",
        "\n"
      ],
      "metadata": {
        "id": "FQU9EATCYnfG",
        "colab": {
          "base_uri": "https://localhost:8080/"
        },
        "outputId": "87c3fc77-e7ec-467c-ffcd-d62cc614cc17"
      },
      "execution_count": 8,
      "outputs": [
        {
          "output_type": "stream",
          "name": "stdout",
          "text": [
            "Senja\n"
          ]
        }
      ]
    },
    {
      "cell_type": "markdown",
      "source": [
        "# **Menghitung Panjang String**\n",
        "\n",
        "Kita bisa menghitung panjang string dengan fungsi bawaan python len()."
      ],
      "metadata": {
        "id": "z69KpNBQap01"
      }
    },
    {
      "cell_type": "code",
      "source": [
        "print(len(judul))\n",
        "\n"
      ],
      "metadata": {
        "id": "TQPNFo51axgm",
        "colab": {
          "base_uri": "https://localhost:8080/"
        },
        "outputId": "15cd73b0-eb02-4914-ffdb-56fba70960c5"
      },
      "execution_count": 9,
      "outputs": [
        {
          "output_type": "stream",
          "name": "stdout",
          "text": [
            "5\n"
          ]
        }
      ]
    },
    {
      "cell_type": "markdown",
      "source": [
        "# **Memeriksa Karakter Awal String dengan string.startswith()**\n",
        "\n",
        "kita akan memeriksa apakah nomor telepon diawali ‘+62’ atau tidak.\n",
        "\n",
        "Untuk melakukannya kita bisa menggunakan fungsi startswith() yang tersedia pada objek atau tipe data string"
      ],
      "metadata": {
        "id": "xyrUXLYtbS4I"
      }
    },
    {
      "cell_type": "code",
      "source": [
        "nomor_telepon_1 = \"087676543685\"\n",
        "\n",
        "nomor_telepon_2 = \"085468426785\"\n",
        "nomor_telepon_3 = \"083763962676\"\n",
        "\n",
        "kode = '087'\n",
        "\n",
        "print(nomor_telepon_1.startswith(kode))"
      ],
      "metadata": {
        "id": "WbT32cd4bikb",
        "colab": {
          "base_uri": "https://localhost:8080/"
        },
        "outputId": "85b193a1-6ef3-4580-b2d9-d2bba837c38f"
      },
      "execution_count": 11,
      "outputs": [
        {
          "output_type": "stream",
          "name": "stdout",
          "text": [
            "True\n"
          ]
        }
      ]
    },
    {
      "cell_type": "markdown",
      "source": [
        "# **Memeriksa Karakter Akhir String dengan string.endswith()**\n",
        "\n",
        "Begitu pula untuk kebalikannya, kita bisa memanfaatkan fungsi endswith() yang terdapat pada objek string."
      ],
      "metadata": {
        "id": "EdeRqg26bwTq"
      }
    },
    {
      "cell_type": "code",
      "source": [
        "email_1 = \"andini@gmail.com\"\n",
        "\n",
        "email_2 = \"smkn9malang.sch.id\"\n",
        "\n",
        "m = \"com\"\n",
        "print(email_1.endswith(m))\n",
        "print(email_2.endswith(m))"
      ],
      "metadata": {
        "id": "Rq4UUy0mb0n9",
        "colab": {
          "base_uri": "https://localhost:8080/"
        },
        "outputId": "837e54b1-facb-4858-b08d-ebc1879ad8a6"
      },
      "execution_count": 12,
      "outputs": [
        {
          "output_type": "stream",
          "name": "stdout",
          "text": [
            "True\n",
            "False\n"
          ]
        }
      ]
    },
    {
      "cell_type": "markdown",
      "source": [
        "# **Penggabungan String**\n",
        "\n",
        "Penggabungan string adalah teknik untuk menyusun atau mengkombinasikan beberapa string menjadi satu kesatuan. Hal ini juga biasa disebut sebagai string concatenation."
      ],
      "metadata": {
        "id": "dp6CRjG8cxqZ"
      }
    },
    {
      "cell_type": "code",
      "source": [
        "nama_depan = \"Andini\"\n",
        "\n",
        "nama_belakang = \"Melina\"\n",
        "\n",
        "\n",
        "nama_lengkap = nama_depan + nama_belakang\n",
        "\n",
        "print(nama_lengkap)"
      ],
      "metadata": {
        "id": "v0B6CLV5c3sQ",
        "colab": {
          "base_uri": "https://localhost:8080/"
        },
        "outputId": "8e430c16-189a-40d8-f870-23c11502e118"
      },
      "execution_count": 18,
      "outputs": [
        {
          "output_type": "stream",
          "name": "stdout",
          "text": [
            "AndiniMelina\n"
          ]
        }
      ]
    },
    {
      "cell_type": "markdown",
      "source": [
        "Karena spasi merupakan sebuah karakter, untuk menghasilkan nama_lengkap yang baik, anda harus menambahkannya dengan karakter spasi"
      ],
      "metadata": {
        "id": "X4dDpyygdMLQ"
      }
    },
    {
      "cell_type": "code",
      "source": [
        "print(nama_depan + ' ' + nama_belakang)"
      ],
      "metadata": {
        "id": "y56bNkeqdCgs",
        "colab": {
          "base_uri": "https://localhost:8080/"
        },
        "outputId": "f0fe0b5d-4413-4031-e622-9e1a363a3623"
      },
      "execution_count": 19,
      "outputs": [
        {
          "output_type": "stream",
          "name": "stdout",
          "text": [
            "Andini Melina\n"
          ]
        }
      ]
    },
    {
      "cell_type": "markdown",
      "source": [
        "**String + Non String**\n",
        "\n",
        "Ingat, bahwa anda hanya bisa menambahkan string dengan string juga. Jika anda berusaha menambahkan string dengan integer, double, atau boolean dan sebagainya, maka anda akan mendapatkan error."
      ],
      "metadata": {
        "id": "68h5DPlWdaGr"
      }
    },
    {
      "cell_type": "code",
      "source": [
        "print('Sekarang tahun: ' + 2021)"
      ],
      "metadata": {
        "colab": {
          "base_uri": "https://localhost:8080/",
          "height": 175
        },
        "id": "uS9useEhdeTp",
        "outputId": "570a8a5e-f520-4aa9-9dec-ac34339daae9"
      },
      "execution_count": null,
      "outputs": [
        {
          "output_type": "error",
          "ename": "TypeError",
          "evalue": "ignored",
          "traceback": [
            "\u001b[0;31m---------------------------------------------------------------------------\u001b[0m",
            "\u001b[0;31mTypeError\u001b[0m                                 Traceback (most recent call last)",
            "\u001b[0;32m<ipython-input-31-6a167f2a97f7>\u001b[0m in \u001b[0;36m<cell line: 1>\u001b[0;34m()\u001b[0m\n\u001b[0;32m----> 1\u001b[0;31m \u001b[0mprint\u001b[0m\u001b[0;34m(\u001b[0m\u001b[0;34m'Sekarang tahun: '\u001b[0m \u001b[0;34m+\u001b[0m \u001b[0;36m2021\u001b[0m\u001b[0;34m)\u001b[0m\u001b[0;34m\u001b[0m\u001b[0;34m\u001b[0m\u001b[0m\n\u001b[0m",
            "\u001b[0;31mTypeError\u001b[0m: can only concatenate str (not \"int\") to str"
          ]
        }
      ]
    },
    {
      "cell_type": "markdown",
      "source": [
        "Solusinya adalah kita harus mengkonversi data integer menjadi string menggunakan fungsi str():"
      ],
      "metadata": {
        "id": "We5pkWxgdomf"
      }
    },
    {
      "cell_type": "code",
      "source": [
        "print('Sekarang tahun: ' + str(2024))"
      ],
      "metadata": {
        "id": "W9VeTdXBdrKx",
        "colab": {
          "base_uri": "https://localhost:8080/"
        },
        "outputId": "dfed0c99-7910-446f-be8b-ccaf6a90461b"
      },
      "execution_count": 20,
      "outputs": [
        {
          "output_type": "stream",
          "name": "stdout",
          "text": [
            "Sekarang tahun: 2024\n"
          ]
        }
      ]
    },
    {
      "cell_type": "markdown",
      "source": [
        "# **Perkalian String**\n",
        "\n",
        "Selain melakukan string concatenation menggunakan operator tambah (+), kita juga bisa menggunakan operator kali ('*').\n",
        "\n",
        "Operator perkalian ini akan mengulang-ulang string yang dikalikan."
      ],
      "metadata": {
        "id": "XXbJqI1ed1VS"
      }
    },
    {
      "cell_type": "code",
      "source": [
        "print('----------')\n",
        "\n",
        "print('-' * 5)"
      ],
      "metadata": {
        "id": "hGdMHRysd3jG",
        "colab": {
          "base_uri": "https://localhost:8080/"
        },
        "outputId": "bb6d74ad-d635-4277-bb87-cc3fefdd3170"
      },
      "execution_count": 21,
      "outputs": [
        {
          "output_type": "stream",
          "name": "stdout",
          "text": [
            "----------\n",
            "-----\n"
          ]
        }
      ]
    }
  ]
}